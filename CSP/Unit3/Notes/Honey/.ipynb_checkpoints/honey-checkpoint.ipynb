{
 "cells": [
  {
   "cell_type": "code",
   "execution_count": 16,
   "id": "7986319e",
   "metadata": {},
   "outputs": [],
   "source": [
    "import matplotlib.pyplot as plt\n",
    "import pandas as pd\n",
    "\n",
    " \n",
    "FILENAME = \"5A10FF1E-1429-3EA9-A727-26B11DAFD2FC.csv\"\n",
    "df = pandas.read_csv(FILENAME)\n",
    "#print(tempData)\n",
    "\n",
    "#df['Value'] = df['Value'].replace(\"(D)\",math.nan)\n",
    "\n",
    "#replace the \",\" with \"\"\n",
    "df['Value'] = df['Value'].str.replace(\",\",\"\")\n",
    "\n",
    "df['Value'] = pd.to_numeric(df['Value'],errors='coerce')\n",
    "\n",
    "df.dropna(subset=['Value'], inplace=True)\n",
    "#print(df)"
   ]
  },
  {
   "cell_type": "code",
   "execution_count": 19,
   "id": "47180bbd",
   "metadata": {},
   "outputs": [
    {
     "name": "stdout",
     "output_type": "stream",
     "text": [
      "ALABAMA 1999204.0\n",
      "ALASKA 76661.0\n",
      "ARIZONA 4522819.0\n",
      "ARKANSAS 3510158.0\n",
      "CALIFORNIA 55972572.0\n",
      "COLORADO 2196719.0\n",
      "CONNECTICUT 630696.0\n",
      "DELAWARE 19233.0\n",
      "FLORIDA 42819623.0\n",
      "GEORGIA 7903332.0\n",
      "HAWAII 5144977.0\n",
      "IDAHO 7432039.0\n",
      "ILLINOIS 1280726.0\n",
      "INDIANA 960831.0\n",
      "IOWA 1440533.0\n",
      "KANSAS 861003.0\n",
      "KENTUCKY 961931.0\n",
      "LOUISIANA 3406641.0\n",
      "MAINE 820846.0\n",
      "MARYLAND 496577.0\n",
      "MASSACHUSETTS 698518.0\n",
      "MICHIGAN 11711369.0\n",
      "MINNESOTA 18489129.0\n",
      "MISSISSIPPI 2556795.0\n",
      "MISSOURI 1338247.0\n",
      "MONTANA 13392925.0\n",
      "NEBRASKA 4501708.0\n",
      "NEVADA 386032.0\n",
      "NEW HAMPSHIRE 242493.0\n",
      "NEW JERSEY 545290.0\n",
      "NEW MEXICO 1264106.0\n",
      "NEW YORK 10344535.0\n",
      "NORTH CAROLINA 1877864.0\n",
      "NORTH DAKOTA 67094765.0\n",
      "OHIO 3503393.0\n",
      "OKLAHOMA 565045.0\n",
      "OREGON 6747107.0\n",
      "PENNSYLVANIA 3161514.0\n",
      "RHODE ISLAND 71487.0\n",
      "SOUTH CAROLINA 528319.0\n",
      "SOUTH DAKOTA 20085182.0\n",
      "TENNESSEE 1621488.0\n",
      "TEXAS 14789145.0\n",
      "UTAH 3748650.0\n",
      "VERMONT 1006464.0\n",
      "VIRGINIA 1225790.0\n",
      "WASHINGTON 7526267.0\n",
      "WEST VIRGINIA 658543.0\n",
      "WISCONSIN 7897416.0\n",
      "WYOMING 6884005.0\n"
     ]
    }
   ],
   "source": [
    "#Show honey production levels over the years, state by state\n",
    "#columns we need are year, state, and the value of honey\n",
    "\n",
    "#before we grabbed all of the unique countries then we itterate over the data\n",
    "#pandas has all cool trick called groupby\n",
    "\n",
    "allHoney=[]\n",
    "allStates=[]\n",
    "uniqueStates = df['State'].unique()\n",
    "#without grouping\n",
    "for state in uniqueStates:\n",
    "    honey = df[df['State'] == state].groupby('Year')['Value']   #creates a new data set\n",
    "    print(state,honey.sum())\n",
    "    allHoney.append(honey.sum())\n",
    "    allStates.append(state)\n"
   ]
  },
  {
   "cell_type": "code",
   "execution_count": null,
   "id": "3194af52",
   "metadata": {},
   "outputs": [],
   "source": []
  }
 ],
 "metadata": {
  "kernelspec": {
   "display_name": "Python 3 (ipykernel)",
   "language": "python",
   "name": "python3"
  },
  "language_info": {
   "codemirror_mode": {
    "name": "ipython",
    "version": 3
   },
   "file_extension": ".py",
   "mimetype": "text/x-python",
   "name": "python",
   "nbconvert_exporter": "python",
   "pygments_lexer": "ipython3",
   "version": "3.9.7"
  }
 },
 "nbformat": 4,
 "nbformat_minor": 5
}
