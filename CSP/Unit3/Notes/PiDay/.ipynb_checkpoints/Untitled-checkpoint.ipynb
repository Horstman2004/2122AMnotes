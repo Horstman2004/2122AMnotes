{
 "cells": [
  {
   "cell_type": "code",
   "execution_count": 1,
   "id": "87b4f9cc",
   "metadata": {},
   "outputs": [
    {
     "name": "stdout",
     "output_type": "stream",
     "text": [
      "Hello Wolrd\n"
     ]
    }
   ],
   "source": [
    "print(\"Hello Wolrd\")"
   ]
  },
  {
   "cell_type": "code",
   "execution_count": 2,
   "id": "ac516e02",
   "metadata": {},
   "outputs": [
    {
     "name": "stdout",
     "output_type": "stream",
     "text": [
      "Ctrl+Enter will run the cell\n"
     ]
    }
   ],
   "source": [
    "print(\"Ctrl+Enter will run the cell\")\n"
   ]
  },
  {
   "cell_type": "code",
   "execution_count": 3,
   "id": "90642e56",
   "metadata": {},
   "outputs": [
    {
     "name": "stdout",
     "output_type": "stream",
     "text": [
      "Shift+Enter will run and enter a new cell\n"
     ]
    }
   ],
   "source": [
    "print(\"Shift+Enter will run and enter a new cell\")\n",
    "print(\"Alt+Enter will also run and enter a new cell\")"
   ]
  },
  {
   "cell_type": "markdown",
   "id": "e670133f",
   "metadata": {},
   "source": [
    "# If we type here it's like typing into a text file.... kind of"
   ]
  },
  {
   "cell_type": "markdown",
   "id": "f0c0b8ec",
   "metadata": {},
   "source": [
    "# Nilakantha Series"
   ]
  },
  {
   "cell_type": "markdown",
   "id": "6be9b7a9",
   "metadata": {},
   "source": [
    "Equation=4/(n(n+1(n+2))"
   ]
  },
  {
   "cell_type": "code",
   "execution_count": 7,
   "id": "97e57242",
   "metadata": {},
   "outputs": [],
   "source": [
    "import math"
   ]
  },
  {
   "cell_type": "code",
   "execution_count": 8,
   "id": "9c063efe",
   "metadata": {},
   "outputs": [
    {
     "name": "stdout",
     "output_type": "stream",
     "text": [
      "3.141592653589793\n"
     ]
    }
   ],
   "source": [
    "print(math.pi)"
   ]
  },
  {
   "cell_type": "code",
   "execution_count": 16,
   "id": "fd98f058",
   "metadata": {},
   "outputs": [],
   "source": [
    "def nilakantah(reps):\n",
    "    #reps is the itterations\n",
    "    i=2\n",
    "    op=1 #opposite\n",
    "    result=0\n",
    "    for i in range(2,2*reps+1,2):\n",
    "        result+=4/(i*(i+1)*(i+2)*op)\n",
    "        op*=-1\n",
    "    return 3+result"
   ]
  },
  {
   "cell_type": "code",
   "execution_count": 24,
   "id": "82d15637",
   "metadata": {},
   "outputs": [
    {
     "name": "stdout",
     "output_type": "stream",
     "text": [
      "3.1415926535897913\n",
      "2.5135449277513544e-13\n"
     ]
    }
   ],
   "source": [
    "print(nilakantah(100000))\n",
    "print(math.pi-nilakantah(10000000))"
   ]
  },
  {
   "cell_type": "code",
   "execution_count": null,
   "id": "f46acbdf",
   "metadata": {},
   "outputs": [],
   "source": []
  }
 ],
 "metadata": {
  "kernelspec": {
   "display_name": "Python 3 (ipykernel)",
   "language": "python",
   "name": "python3"
  },
  "language_info": {
   "codemirror_mode": {
    "name": "ipython",
    "version": 3
   },
   "file_extension": ".py",
   "mimetype": "text/x-python",
   "name": "python",
   "nbconvert_exporter": "python",
   "pygments_lexer": "ipython3",
   "version": "3.9.7"
  }
 },
 "nbformat": 4,
 "nbformat_minor": 5
}
