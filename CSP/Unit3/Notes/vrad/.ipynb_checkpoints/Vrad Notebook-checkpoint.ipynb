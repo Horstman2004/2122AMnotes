{
 "cells": [
  {
   "cell_type": "code",
   "execution_count": 21,
   "id": "eb17c8be",
   "metadata": {},
   "outputs": [
    {
     "name": "stdout",
     "output_type": "stream",
     "text": [
      "JTH\n"
     ]
    }
   ],
   "source": [
    "from VIN import VIN\n",
    "\n",
    "with open(\"vins.csv\",\"r\") as f:\n",
    "    file = f.readlines()\n",
    "\n",
    "for i in range(len(file)):\n",
    "    file[i]=VIN(file[i].rstrip())\n",
    "        \n",
    "print(file[0].wmi)"
   ]
  },
  {
   "cell_type": "code",
   "execution_count": 14,
   "id": "b1ad18ff",
   "metadata": {},
   "outputs": [],
   "source": [
    "#converts letters to base 10 number\n",
    "def vmpenc(vin):\n",
    "    vmap=\"0123456789ABCDEFGHJKLMNPRSTUVWXYZ\"\n",
    "    vrad=0\n",
    "    exp=0\n",
    "    base = 34\n",
    "    for v in range(len(vin)):\n",
    "        coe = vmap.index(vin[v])\n",
    "        exp = len(vin)-1-i\n",
    "        vrad+= coe*base**exp\n",
    "        #print(coe,exp,coe*base**exp)\n",
    "    print(vrad)\n",
    "    return(vrad)"
   ]
  },
  {
   "cell_type": "code",
   "execution_count": 1,
   "id": "e1764198",
   "metadata": {},
   "outputs": [
    {
     "ename": "NameError",
     "evalue": "name 'file' is not defined",
     "output_type": "error",
     "traceback": [
      "\u001b[1;31m---------------------------------------------------------------------------\u001b[0m",
      "\u001b[1;31mNameError\u001b[0m                                 Traceback (most recent call last)",
      "Input \u001b[1;32mIn [1]\u001b[0m, in \u001b[0;36m<cell line: 2>\u001b[1;34m()\u001b[0m\n\u001b[0;32m      1\u001b[0m \u001b[38;5;66;03m#Loop through your file and convert each item in the file\u001b[39;00m\n\u001b[1;32m----> 2\u001b[0m \u001b[38;5;28;01mfor\u001b[39;00m v \u001b[38;5;129;01min\u001b[39;00m \u001b[43mfile\u001b[49m:\n\u001b[0;32m      3\u001b[0m     vmpenc(v\u001b[38;5;241m.\u001b[39mwmi\u001b[38;5;241m+\u001b[39mv\u001b[38;5;241m.\u001b[39mvds\u001b[38;5;241m+\u001b[39mv\u001b[38;5;241m.\u001b[39mser)\n",
      "\u001b[1;31mNameError\u001b[0m: name 'file' is not defined"
     ]
    }
   ],
   "source": [
    "#Loop through your file and convert each item in the file\n",
    "for v in file:\n",
    "    vmpenc(v.wmi+v.vds+v.ser)\n",
    "    "
   ]
  },
  {
   "cell_type": "code",
   "execution_count": null,
   "id": "fc7cefad",
   "metadata": {},
   "outputs": [],
   "source": []
  }
 ],
 "metadata": {
  "kernelspec": {
   "display_name": "Python 3 (ipykernel)",
   "language": "python",
   "name": "python3"
  },
  "language_info": {
   "codemirror_mode": {
    "name": "ipython",
    "version": 3
   },
   "file_extension": ".py",
   "mimetype": "text/x-python",
   "name": "python",
   "nbconvert_exporter": "python",
   "pygments_lexer": "ipython3",
   "version": "3.9.7"
  }
 },
 "nbformat": 4,
 "nbformat_minor": 5
}
